{
  "nbformat": 4,
  "nbformat_minor": 0,
  "metadata": {
    "colab": {
      "provenance": [],
      "authorship_tag": "ABX9TyOGLWtfvjdTY0n/YK1yJ1Zl",
      "include_colab_link": true
    },
    "kernelspec": {
      "name": "python3",
      "display_name": "Python 3"
    },
    "language_info": {
      "name": "python"
    }
  },
  "cells": [
    {
      "cell_type": "markdown",
      "metadata": {
        "id": "view-in-github",
        "colab_type": "text"
      },
      "source": [
        "<a href=\"https://colab.research.google.com/github/mahopman/IEBM-Net/blob/main/pretraining_dataset/aggregate_drug_contexts.ipynb\" target=\"_parent\"><img src=\"https://colab.research.google.com/assets/colab-badge.svg\" alt=\"Open In Colab\"/></a>"
      ]
    },
    {
      "cell_type": "code",
      "source": [
        "__author__ = 'Qiao Jin'\n",
        "__editor__ = 'Mia Hopman'"
      ],
      "metadata": {
        "id": "MpHcesWv8E1v"
      },
      "execution_count": null,
      "outputs": []
    },
    {
      "cell_type": "code",
      "source": [
        "local_path = '/content/drive/MyDrive/MS_DataScience/DS595/IEBM-Net_Data'\n",
        "pretraining_dataset_path = f'{local_path}/pretraining_dataset'"
      ],
      "metadata": {
        "id": "MVyjbZQi8FRl"
      },
      "execution_count": null,
      "outputs": []
    },
    {
      "cell_type": "code",
      "source": [
        "!git clone https://github.com/Alibaba-NLP/EBM-Net.git\n",
        "!cp -a EBM-Net/pretraining_dataset/evidence/bad_pmids.json -d $pretraining_dataset_path"
      ],
      "metadata": {
        "id": "wE8NlWJU9gtI"
      },
      "execution_count": null,
      "outputs": []
    },
    {
      "cell_type": "code",
      "source": [
        "## CHECK PMIDS TO DRUG PMIDS ##\n",
        "pmids = set(json.load(open(f'{pretraining_dataset_path}/evidence_pmids.json')))\n",
        "intervention2ids = json.load(open(f'{pretraining_dataset_path}/intervention2ids.json'))\n",
        "drug_pmids = set(intervention2ids['DRUGS'])\n",
        "print(len(pmids), len(drug_pmids))\n",
        "## END OF CHECK ##"
      ],
      "metadata": {
        "id": "SQ88DXUg-c5s"
      },
      "execution_count": null,
      "outputs": []
    },
    {
      "cell_type": "code",
      "execution_count": null,
      "metadata": {
        "id": "Mlk8ezvk7_IL"
      },
      "outputs": [],
      "source": [
        "'''\n",
        "codes to aggregate the contexts\n",
        "only aggregate the needed contexts\n",
        "'''\n",
        "\n",
        "ctxs = glob.glob(f'{pretraining_dataset_path}/evidence/contexts_{chunk_id}.json')\n",
        "\n",
        "pmids = set(json.load(open(f'{pretraining_dataset_path}/evidence_pmids.json')))\n",
        "bad_pmids = set(json.load(open(f'{pretraining_dataset_path}/bad_pmids.json')))\n",
        "\n",
        "pmid2ctx = {}\n",
        "\n",
        "for ctx in ctxs:\n",
        "\tif '_10.json' in ctx:\n",
        "\t\tprint('Processing %s' % ctx)\n",
        "\t\tdata = json.load(open(ctx))\n",
        "\n",
        "\t\tfor item in data:\n",
        "\t\t\tpmid = item['pmid']\n",
        "\t\t\tctx = item['ctx']\n",
        "\n",
        "\t\t\tif pmid not in pmids or pmid in bad_pmids: continue\n",
        "\n",
        "\t\t\tpmid2ctx[pmid] = ctx\n",
        "\n",
        "with open(f'{local_path}/pretraining_dataset/pmid2ctx.json', 'w') as f:\n",
        "\tjson.dump(pmid2ctx, f, indent=4)"
      ]
    }
  ]
}