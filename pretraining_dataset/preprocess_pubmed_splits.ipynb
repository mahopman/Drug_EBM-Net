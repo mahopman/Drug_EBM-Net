{
  "nbformat": 4,
  "nbformat_minor": 0,
  "metadata": {
    "colab": {
      "provenance": [],
      "authorship_tag": "ABX9TyPHk4eaKp7o+qNKIOMsG1/Q",
      "include_colab_link": true
    },
    "kernelspec": {
      "name": "python3",
      "display_name": "Python 3"
    },
    "language_info": {
      "name": "python"
    }
  },
  "cells": [
    {
      "cell_type": "markdown",
      "metadata": {
        "id": "view-in-github",
        "colab_type": "text"
      },
      "source": [
        "<a href=\"https://colab.research.google.com/github/mahopman/IEBM-Net/blob/main/pretraining_dataset/preprocess_pubmed_splits.ipynb\" target=\"_parent\"><img src=\"https://colab.research.google.com/assets/colab-badge.svg\" alt=\"Open In Colab\"/></a>"
      ]
    },
    {
      "cell_type": "code",
      "source": [
        "__author__ = 'Qiao Jin'\n",
        "__editor__ = 'Mia Hopman'"
      ],
      "metadata": {
        "id": "aR5t4Q9fq9AC"
      },
      "execution_count": null,
      "outputs": []
    },
    {
      "cell_type": "code",
      "source": [
        "local_path = '/content/drive/MyDrive/MS_DataScience/DS595/IEBM-Net_Data'\n",
        "pretraining_dataset_path = f'{local_path}/pretraining_dataset'"
      ],
      "metadata": {
        "id": "yoD70-SSq-GP"
      },
      "execution_count": null,
      "outputs": []
    },
    {
      "cell_type": "code",
      "execution_count": null,
      "metadata": {
        "id": "poyduGqXq0I6"
      },
      "outputs": [],
      "source": [
        "import glob\n",
        "import xml.etree.ElementTree as ET\n",
        "\n",
        "for xml_path in glob.glob(f'{pretraining_dataset_path}/pubmed_baseline/pubmed24n*.xml'):\n",
        "    xml_file = xml_path.split('/')[-1]\n",
        "    print('Processing %s' % xml_path)\n",
        "    output = []\n",
        "\n",
        "    tree = ET.parse(xml_path)\n",
        "    root = tree.getroot()\n",
        "\n",
        "    for citation in root.iter('MedlineCitation'):\n",
        "        pmid = citation.find('PMID')\n",
        "        if pmid == None:\n",
        "            continue\n",
        "        else:\n",
        "            pmid = pmid.text\n",
        "\n",
        "        texts = []\n",
        "        sec_labels = []\n",
        "\n",
        "        title = citation.find('Article/ArticleTitle')\n",
        "        if title != None:\n",
        "            texts.append(title.text)\n",
        "            sec_labels.append('TITLE')\n",
        "\n",
        "        for info in citation.iter('AbstractText'):\n",
        "            if info.text:\n",
        "                texts.append(info.text)\n",
        "                sec_labels.append(info.get('Label'))\n",
        "\n",
        "        assert len(texts) == len(sec_labels)\n",
        "\n",
        "        output.append({'pmid': pmid,\n",
        "                       'texts': texts,\n",
        "                       'sec_labels': sec_labels})\n",
        "\n",
        "    with open(f\"{xml_path.split('.')[0]}.json\", 'w') as f:\n",
        "        json.dump(output, f, indent=4)"
      ]
    }
  ]
}