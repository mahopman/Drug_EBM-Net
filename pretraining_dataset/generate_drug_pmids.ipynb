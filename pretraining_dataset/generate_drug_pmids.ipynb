{
  "nbformat": 4,
  "nbformat_minor": 0,
  "metadata": {
    "colab": {
      "provenance": [],
      "authorship_tag": "ABX9TyM5sx3W6IoS4DhPZBwy+lF5",
      "include_colab_link": true
    },
    "kernelspec": {
      "name": "python3",
      "display_name": "Python 3"
    },
    "language_info": {
      "name": "python"
    }
  },
  "cells": [
    {
      "cell_type": "markdown",
      "metadata": {
        "id": "view-in-github",
        "colab_type": "text"
      },
      "source": [
        "<a href=\"https://colab.research.google.com/github/mahopman/IEBM-Net/blob/main/pretraining_dataset/generate_drug_pmids.ipynb\" target=\"_parent\"><img src=\"https://colab.research.google.com/assets/colab-badge.svg\" alt=\"Open In Colab\"/></a>"
      ]
    },
    {
      "cell_type": "code",
      "execution_count": null,
      "metadata": {
        "id": "_T6gQpMJr3_K"
      },
      "outputs": [],
      "source": [
        "__author__ = 'Mia Hopman'"
      ]
    },
    {
      "cell_type": "code",
      "source": [
        "local_path = '/content/drive/MyDrive/MS_DataScience/DS595/IEBM-Net_Data'\n",
        "pretraining_dataset_path = f'{local_path}/pretraining_dataset'\n",
        "clinical_trial_path = f'{local_path}/clinical_trials'"
      ],
      "metadata": {
        "id": "MlZdkv3Or5YW"
      },
      "execution_count": null,
      "outputs": []
    },
    {
      "cell_type": "code",
      "source": [
        "## extract NCTID from pubmed text and map to PMID\n",
        "import os\n",
        "import glob\n",
        "import json\n",
        "import re\n",
        "\n",
        "pmid2nctid = {}\n",
        "\n",
        "files = glob.glob(f'{pretraining_dataset_path}/pubmed_baseline/pubmed24n*.json')\n",
        "\n",
        "for file in files:\n",
        "    data = json.load(open(file))\n",
        "\n",
        "    for article in data:\n",
        "        pmid = article['pmid']\n",
        "        texts = article['texts']\n",
        "        for text in texts:\n",
        "            if text:\n",
        "                matches = re.findall(r'NCT\\d+', text)\n",
        "                if matches:\n",
        "                    for match in matches:\n",
        "                        pmid_to_nctid[pmid] = match\n",
        "\n",
        "with open(f'{pretraining_dataset_path}/pmid2nctid.json', 'w') as f:\n",
        "    json.dump(pmcid2nctid, f)"
      ],
      "metadata": {
        "id": "kjSaQMt0r7I5"
      },
      "execution_count": null,
      "outputs": []
    },
    {
      "cell_type": "code",
      "source": [
        "# map PMID to intervention type\n",
        "nctid2intervention = json.load(open(f'{clinical_trial_path}/nctid2intervention.json'))\n",
        "pmid2nctid = json.load(open(f'{pretraining_dataset_path}/pmid2nctid.json'))\n",
        "\n",
        "pmid2intervention = {}\n",
        "\n",
        "for pmid, nctid in pmid2nctid.items():\n",
        "    try:\n",
        "        intervention = nctid2intervention[nctid]\n",
        "    except:\n",
        "        continue\n",
        "    pmid2intervention[pmcid] = intervention\n",
        "\n",
        "with open(f'{pretraining_dataset_path}/pmid2intervention.json', 'w') as f:\n",
        "    json.dump(pmid2intervention, f)"
      ],
      "metadata": {
        "id": "filDcy6Rr9TD"
      },
      "execution_count": null,
      "outputs": []
    },
    {
      "cell_type": "code",
      "source": [
        "# create list of pmids for each intervention type\n",
        "pmid2intervention = json.load(open(f'{pretraining_dataset_path}/pmid2intervention.json'))\n",
        "\n",
        "intervention2ids = {}\n",
        "\n",
        "for pmid, interventions in pmid2intervention.items():\n",
        "    for intervention in interventions:\n",
        "        if intervention not in intervention2ids.keys():\n",
        "            intervention2ids[intervention] = [pmid]\n",
        "        else:\n",
        "            intervention2ids[intervention].append(pmid)\n",
        "\n",
        "\n",
        "with open(f'{pretraining_dataset_path}/intervention2ids.json', 'w') as f:\n",
        "    json.dump(intervention2ids, f)"
      ],
      "metadata": {
        "id": "rMVaAkHZr_0a"
      },
      "execution_count": null,
      "outputs": []
    },
    {
      "cell_type": "code",
      "source": [
        "# check intervention distributions\n",
        "for intervention in intervention2ids.keys():\n",
        "    print(intervention, len(intervention2ids[intervention]))"
      ],
      "metadata": {
        "id": "ey6hRZ_MsB2K"
      },
      "execution_count": null,
      "outputs": []
    }
  ]
}