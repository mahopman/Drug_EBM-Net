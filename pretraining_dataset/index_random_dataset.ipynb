{
  "nbformat": 4,
  "nbformat_minor": 0,
  "metadata": {
    "colab": {
      "provenance": [],
      "authorship_tag": "ABX9TyMZKD8drbzIQqmQd+aYvENQ",
      "include_colab_link": true
    },
    "kernelspec": {
      "name": "python3",
      "display_name": "Python 3"
    },
    "language_info": {
      "name": "python"
    }
  },
  "cells": [
    {
      "cell_type": "markdown",
      "metadata": {
        "id": "view-in-github",
        "colab_type": "text"
      },
      "source": [
        "<a href=\"https://colab.research.google.com/github/mahopman/IEBM-Net/blob/main/pretraining_dataset/index_random_dataset.ipynb\" target=\"_parent\"><img src=\"https://colab.research.google.com/assets/colab-badge.svg\" alt=\"Open In Colab\"/></a>"
      ]
    },
    {
      "cell_type": "code",
      "source": [
        "__author__ = 'Qiao Jin'\n",
        "__editor__ = 'Mia Hopman'"
      ],
      "metadata": {
        "id": "Ai47vzb8_G7o"
      },
      "execution_count": null,
      "outputs": []
    },
    {
      "cell_type": "code",
      "source": [
        "local_path = '/content/drive/MyDrive/MS_DataScience/DS595/IEBM-Net_Data'\n",
        "pretraining_dataset_path = f'{local_path}/pretraining_dataset'"
      ],
      "metadata": {
        "id": "tXKglM5J_ICW"
      },
      "execution_count": null,
      "outputs": []
    },
    {
      "cell_type": "code",
      "execution_count": null,
      "metadata": {
        "id": "VicGhHjJ_CMQ"
      },
      "outputs": [],
      "source": [
        "pmid2ctxid = {}\n",
        "\n",
        "random_pmid2ctx = json.load(open(f'{pretraining_dataset_path}/random_pmid2ctx.json'))\n",
        "evidence = json.load(open(f'{pretraining_dataset_path}/evidence.json'))\n",
        "\n",
        "indexed_evidence = []\n",
        "indexed_contexts = []\n",
        "\n",
        "for entry in evidence:\n",
        "\tpmid = entry['pmid']\n",
        "\tif pmid not in random_pmid2ctx: continue\n",
        "\n",
        "\tif pmid not in pmid2ctxid:\n",
        "\t\tpmid2ctxid[pmid] = len(pmid2ctxid)\n",
        "\t\tindexed_contexts.append({'passage': random_pmid2ctx[pmid], 'ctx_id': pmid2ctxid[pmid]})\n",
        "\n",
        "\tentry['ctx_id'] = pmid2ctxid[pmid]\n",
        "\n",
        "\tindexed_evidence.append(entry)\n",
        "\n",
        "with open(f'{pretraining_dataset_path}/indexed_evidence_random.json', 'w') as f:\n",
        "\tjson.dump(indexed_evidence, f, indent=4)\n",
        "with open(f'{pretraining_dataset_path}/indexed_contexts_random.json', 'w') as f:\n",
        "\tjson.dump(indexed_contexts, f, indent=4)"
      ]
    }
  ]
}