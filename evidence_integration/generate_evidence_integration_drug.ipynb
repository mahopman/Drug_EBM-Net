{
  "nbformat": 4,
  "nbformat_minor": 0,
  "metadata": {
    "colab": {
      "provenance": [],
      "mount_file_id": "https://github.com/mahopman/IEBM-Net/blob/main/evidence_integration/generate_evidence_integration_drug.ipynb",
      "authorship_tag": "ABX9TyPQWIaaNAWe2qOshmks0hE0",
      "include_colab_link": true
    },
    "kernelspec": {
      "name": "python3",
      "display_name": "Python 3"
    },
    "language_info": {
      "name": "python"
    }
  },
  "cells": [
    {
      "cell_type": "markdown",
      "metadata": {
        "id": "view-in-github",
        "colab_type": "text"
      },
      "source": [
        "<a href=\"https://colab.research.google.com/github/mahopman/IEBM-Net/blob/main/evidence_integration/generate_evidence_integration_drug.ipynb\" target=\"_parent\"><img src=\"https://colab.research.google.com/assets/colab-badge.svg\" alt=\"Open In Colab\"/></a>"
      ]
    },
    {
      "cell_type": "code",
      "execution_count": 19,
      "metadata": {
        "id": "Mih0tee-j92g"
      },
      "outputs": [],
      "source": [
        "__author__ = 'Qiao Jin'\n",
        "__editor__ = 'Mia Hopman'"
      ]
    },
    {
      "cell_type": "code",
      "source": [
        "local_path = '/IEBM-Net_Data'\n",
        "evidence_integration_path = f'{local_path}/evidence_integration'"
      ],
      "metadata": {
        "id": "CtTIvpPOlE9h"
      },
      "execution_count": 20,
      "outputs": []
    },
    {
      "cell_type": "code",
      "source": [
        "import json\n",
        "\n",
        "def generate(picoids, split_path):\n",
        "\toutput = []\n",
        "\tfor picoid in picoids:\n",
        "\t\tif prompt_info[picoid]['label'] != 'invalid prompt':\n",
        "\t\t\toutput.append({})\n",
        "\t\t\toutput[-1]['picoid'] = picoid\n",
        "\t\t\toutput[-1]['pmcid'] = prompt_info[picoid]['PMCID']\n",
        "\t\t\toutput[-1]['i_text'] = prompt_info[picoid]['I']\n",
        "\t\t\toutput[-1]['c_text'] = prompt_info[picoid]['C']\n",
        "\t\t\toutput[-1]['o_text'] = prompt_info[picoid]['O']\n",
        "\t\t\toutput[-1]['label'] = result2label[prompt_info[picoid]['label']]\n",
        "\n",
        "\t\t\tpassage = ''\n",
        "\t\t\tif str(prompt_info[picoid]['PMCID']) in pmcid2content:\n",
        "\t\t\t\tcontent = pmcid2content[str(prompt_info[picoid]['PMCID'])]\n",
        "\t\t\t\tfor secname, text in content:\n",
        "\t\t\t\t\tif secname[:len('ABSTRACT')] != 'ABSTRACT': continue\n",
        "\t\t\t\t\tif sec2label[secname2sec[secname]] == '1':\n",
        "\t\t\t\t\t\tpassage += text\n",
        "\n",
        "\t\t\toutput[-1]['passage'] = passage\n",
        "\n",
        "\twith open(split_path, 'w') as f:\n",
        "\t\tjson.dump(output, f, indent=4)"
      ],
      "metadata": {
        "id": "0r0DUozrk91V"
      },
      "execution_count": 21,
      "outputs": []
    },
    {
      "cell_type": "code",
      "source": [
        "import random as rd\n",
        "result2label = {'significantly decreased': 0,\\\n",
        "\t\t\t\t'no significant difference': 1,\\\n",
        "\t\t\t\t'significantly increased': 2}\n",
        "\n",
        "prompt_info = json.load(open(f'{evidence_integration_path}/evidence_inference/prompt_info.json'))\n",
        "split2ids = json.load(open(f'{evidence_integration_path}/evidence_inference/split2ids.json'))\n",
        "pmcid2picoid = json.load(open(f'{evidence_integration_path}/evidence_inference/pmcid2picoid.json'))\n",
        "pmcid2content = json.load(open(f'{evidence_integration_path}/evidence_inference/pmc_contents.json'))\n",
        "secname2sec = json.load(open(f'{evidence_integration_path}/evidence_inference/secname2sec.json'))\n",
        "sec2label = json.load(open(f'{evidence_integration_path}/evidence_inference/sec2label.json'))\n",
        "intervention2id = json.load(open(f'{evidence_integration_path}/intervention2ids.json'))\n",
        "\n",
        "drug_pmcids = intervention2id['DRUG']\n",
        "\n",
        "all_pmcids = [pmcid for key, pmcids in intervention2id.items() for pmcid in pmcids]\n",
        "random_pmcids = rd.sample(all_pmcids, len(drug_pmcids))\n",
        "\n",
        "for split, ids in split2ids.items():\n",
        "    drug_picoids = []\n",
        "    random_picoids = []\n",
        "\n",
        "    for pmcid in ids:\n",
        "        pmcid = str(pmcid)\n",
        "        if pmcid in pmcid2picoid and pmcid in drug_pmcids:\n",
        "            drug_picoids += pmcid2picoid[pmcid]\n",
        "        if pmcid in pmcid2picoid and pmcid in random_pmcids:\n",
        "            random_picoids += pmcid2picoid[pmcid]\n",
        "\n",
        "    split_path = f\"{evidence_integration_path}/{split}.json\"\n",
        "    generate(drug_picoids, split_path)\n",
        "\n",
        "    split_path = f\"{evidence_integration_path}/{split}_random.json\"\n",
        "    generate(random_picoids, split_path)"
      ],
      "metadata": {
        "id": "fdW1zFU_lD6L",
        "outputId": "cc18cba9-8c3c-456d-bd6e-c8759fd45206",
        "colab": {
          "base_uri": "https://localhost:8080/"
        }
      },
      "execution_count": 22,
      "outputs": [
        {
          "output_type": "stream",
          "name": "stdout",
          "text": [
            "373 976 373\n"
          ]
        }
      ]
    }
  ]
}