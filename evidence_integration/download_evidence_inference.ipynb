{
  "nbformat": 4,
  "nbformat_minor": 0,
  "metadata": {
    "colab": {
      "provenance": [],
      "mount_file_id": "1mzwbQRL3eJp4ZyfAkFlPl5tG8NdLwvZb",
      "authorship_tag": "ABX9TyNKdu0YFsNCRk42K5hAnJ5R",
      "include_colab_link": true
    },
    "kernelspec": {
      "name": "python3",
      "display_name": "Python 3"
    },
    "language_info": {
      "name": "python"
    }
  },
  "cells": [
    {
      "cell_type": "markdown",
      "metadata": {
        "id": "view-in-github",
        "colab_type": "text"
      },
      "source": [
        "<a href=\"https://colab.research.google.com/github/mahopman/IEMB-Net/blob/main/evidence_integration/download_evidence_inference.ipynb\" target=\"_parent\"><img src=\"https://colab.research.google.com/assets/colab-badge.svg\" alt=\"Open In Colab\"/></a>"
      ]
    },
    {
      "cell_type": "code",
      "source": [
        "__author__ = 'Mia Hopman'"
      ],
      "metadata": {
        "id": "yIuIWMOskQr6"
      },
      "execution_count": null,
      "outputs": []
    },
    {
      "cell_type": "code",
      "source": [
        "local_path = '/IEBM-Net_Data'"
      ],
      "metadata": {
        "id": "qpjnOp9YK5uq"
      },
      "execution_count": 13,
      "outputs": []
    },
    {
      "cell_type": "code",
      "source": [
        "output_path = f'{local_path}/evidence_integration/evidence_inference'"
      ],
      "metadata": {
        "id": "BVZJHvX-N0yy"
      },
      "execution_count": 14,
      "outputs": []
    },
    {
      "cell_type": "code",
      "execution_count": null,
      "metadata": {
        "id": "2S_lSYjDKldO"
      },
      "outputs": [],
      "source": [
        "!wget https://evidence-inference.ebm-nlp.com/v2.0.tar.gz -O evidence_inference.tar.gz\n",
        "!mkdir -p $output_path\n",
        "!tar -xzvf evidence_inference.tar.gz -C $output_path"
      ]
    }
  ]
}