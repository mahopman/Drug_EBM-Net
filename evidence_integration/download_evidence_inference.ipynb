{
  "nbformat": 4,
  "nbformat_minor": 0,
  "metadata": {
    "colab": {
      "provenance": [],
      "mount_file_id": "1mzwbQRL3eJp4ZyfAkFlPl5tG8NdLwvZb",
      "authorship_tag": "ABX9TyMs8ZsdHMTSzcGrBAyX0hnK",
      "include_colab_link": true
    },
    "kernelspec": {
      "name": "python3",
      "display_name": "Python 3"
    },
    "language_info": {
      "name": "python"
    }
  },
  "cells": [
    {
      "cell_type": "markdown",
      "metadata": {
        "id": "view-in-github",
        "colab_type": "text"
      },
      "source": [
        "<a href=\"https://colab.research.google.com/github/mahopman/IEBM-Net/blob/main/evidence_integration/download_evidence_inference.ipynb\" target=\"_parent\"><img src=\"https://colab.research.google.com/assets/colab-badge.svg\" alt=\"Open In Colab\"/></a>"
      ]
    },
    {
      "cell_type": "code",
      "source": [
        "__author__ = 'Mia Hopman'"
      ],
      "metadata": {
        "id": "yIuIWMOskQr6"
      },
      "execution_count": 4,
      "outputs": []
    },
    {
      "cell_type": "code",
      "source": [
        "local_path = '/IEBM-Net_Data'"
      ],
      "metadata": {
        "id": "qpjnOp9YK5uq"
      },
      "execution_count": 13,
      "outputs": []
    },
    {
      "cell_type": "code",
      "source": [
        "output_path = f'{local_path}/evidence_integration/evidence_inference'"
      ],
      "metadata": {
        "id": "BVZJHvX-N0yy"
      },
      "execution_count": 14,
      "outputs": []
    },
    {
      "cell_type": "code",
      "source": [
        "!git clone https://github.com/Alibaba-NLP/EBM-Net.git\n",
        "!mkdir -p $output_path\n",
        "!unzip -j EBM-Net/evidence_integration/materials.zip -d $output_path"
      ],
      "metadata": {
        "id": "873KZ80PdxTT"
      },
      "execution_count": null,
      "outputs": []
    }
  ]
}