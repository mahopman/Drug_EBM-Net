{
  "nbformat": 4,
  "nbformat_minor": 0,
  "metadata": {
    "colab": {
      "provenance": [],
      "mount_file_id": "1vUwCUY5x_7OuiA7eXhxYya47HegY1wUz",
      "authorship_tag": "ABX9TyPT1DZbdyOmTbFSmmihu0MI",
      "include_colab_link": true
    },
    "kernelspec": {
      "name": "python3",
      "display_name": "Python 3"
    },
    "language_info": {
      "name": "python"
    }
  },
  "cells": [
    {
      "cell_type": "markdown",
      "metadata": {
        "id": "view-in-github",
        "colab_type": "text"
      },
      "source": [
        "<a href=\"https://colab.research.google.com/github/mahopman/IEBM-Net/blob/main/evidence_integration/generate_drug_pmcids.ipynb\" target=\"_parent\"><img src=\"https://colab.research.google.com/assets/colab-badge.svg\" alt=\"Open In Colab\"/></a>"
      ]
    },
    {
      "cell_type": "code",
      "source": [
        "__author__ = 'Mia Hopman'"
      ],
      "metadata": {
        "id": "g5rF0yltkcUh"
      },
      "execution_count": 1,
      "outputs": []
    },
    {
      "cell_type": "code",
      "source": [
        "local_path = '/content/drive/MyDrive/MS_DataScience/DS595/IEBM-Net_Data'\n",
        "evidence_integration_path = f'{local_path}/evidence_integration'\n",
        "clinical_trial_path = f'{local_path}/clinical_trials'"
      ],
      "metadata": {
        "id": "S6juQB7Bdcd4"
      },
      "execution_count": 2,
      "outputs": []
    },
    {
      "cell_type": "code",
      "execution_count": 11,
      "metadata": {
        "id": "Z6BQc7KMb6CX"
      },
      "outputs": [],
      "source": [
        "## extract NCTID from pubmed text and map to PMCID\n",
        "import os\n",
        "import glob\n",
        "import json\n",
        "import re\n",
        "\n",
        "pmcid2nctid = {}\n",
        "\n",
        "pmc_contents = json.load(open(f'{evidence_integration_path}/evidence_inference/pmc_contents.json'))\n",
        "\n",
        "for pmcid in pmc_contents:\n",
        "    content = pmc_contents[pmcid]\n",
        "    for secname, text in content:\n",
        "        matches = re.findall(r'NCT\\d+', text)\n",
        "        if matches:\n",
        "            for match in matches:\n",
        "                pmcid2nctid[pmcid] = match\n",
        "\n",
        "with open(f'{evidence_integration_path}/pmcid2nctid.json', 'w') as f:\n",
        "    json.dump(pmcid2nctid, f)"
      ]
    },
    {
      "cell_type": "code",
      "source": [
        "# map pmcid to intervention type\n",
        "nctid2intervention = json.load(open(f'{clinical_trial_path}/nctid2intervention.json'))\n",
        "pmcid2nctid = json.load(open(f'{evidence_integration_path}/pmcid2nctid.json'))\n",
        "\n",
        "pmcid2intervention = {}\n",
        "\n",
        "for pmcid, nctid in pmcid2nctid.items():\n",
        "    try:\n",
        "        intervention = nctid2intervention[nctid]\n",
        "    except:\n",
        "        continue\n",
        "    pmcid2intervention[pmcid] = intervention\n",
        "\n",
        "with open(f'{evidence_integration_path}/pmcid2intervention.json', 'w') as f:\n",
        "    json.dump(pmcid2intervention, f)"
      ],
      "metadata": {
        "id": "6w7IiWlncue7"
      },
      "execution_count": 13,
      "outputs": []
    },
    {
      "cell_type": "code",
      "source": [
        "# create list of pmids for each intervention type\n",
        "pmcid2intervention = json.load(open(f'{evidence_integration_path}/pmcid2intervention.json'))\n",
        "\n",
        "intervention2ids = {}\n",
        "\n",
        "for pmcid, interventions in pmcid2intervention.items():\n",
        "    for intervention in interventions:\n",
        "        if intervention not in intervention2ids.keys():\n",
        "            intervention2ids[intervention] = [pmcid]\n",
        "        else:\n",
        "            intervention2ids[intervention].append(pmcid)\n",
        "\n",
        "\n",
        "with open(f'{evidence_integration_path}/intervention2ids.json', 'w') as f:\n",
        "    json.dump(intervention2ids, f)"
      ],
      "metadata": {
        "id": "GEGw2Hsscwzb"
      },
      "execution_count": 14,
      "outputs": []
    },
    {
      "cell_type": "code",
      "source": [
        "# check intervention distributions\n",
        "for intervention in intervention2ids.keys():\n",
        "    print(intervention, len(intervention2ids[intervention]))"
      ],
      "metadata": {
        "colab": {
          "base_uri": "https://localhost:8080/"
        },
        "id": "mOMHHNw7johv",
        "outputId": "39864c6b-eab5-4bf9-8339-0434d1558e6b"
      },
      "execution_count": 16,
      "outputs": [
        {
          "output_type": "stream",
          "name": "stdout",
          "text": [
            "DRUG 373\n",
            "RADIATION 15\n",
            "BEHAVIORAL 167\n",
            "DEVICE 75\n",
            "PROCEDURE 71\n",
            "OTHER 172\n",
            "DIETARY_SUPPLEMENT 60\n",
            "BIOLOGICAL 42\n",
            "GENETIC 1\n"
          ]
        }
      ]
    }
  ]
}