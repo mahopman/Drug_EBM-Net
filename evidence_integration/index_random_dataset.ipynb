{
  "nbformat": 4,
  "nbformat_minor": 0,
  "metadata": {
    "colab": {
      "provenance": [],
      "authorship_tag": "ABX9TyNBP1QvYzaFggEAhG77mMGj",
      "include_colab_link": true
    },
    "kernelspec": {
      "name": "python3",
      "display_name": "Python 3"
    },
    "language_info": {
      "name": "python"
    }
  },
  "cells": [
    {
      "cell_type": "markdown",
      "metadata": {
        "id": "view-in-github",
        "colab_type": "text"
      },
      "source": [
        "<a href=\"https://colab.research.google.com/github/mahopman/IEBM-Net/blob/main/evidence_integration/index_random_dataset.ipynb\" target=\"_parent\"><img src=\"https://colab.research.google.com/assets/colab-badge.svg\" alt=\"Open In Colab\"/></a>"
      ]
    },
    {
      "cell_type": "code",
      "execution_count": 2,
      "metadata": {
        "id": "_97eKLDB3_Yg"
      },
      "outputs": [],
      "source": [
        "__author__ = 'Qiao Jin'\n",
        "__editor__ = 'Mia Hopman'"
      ]
    },
    {
      "cell_type": "code",
      "source": [
        "local_path = '/IEBM-Net_Data'\n",
        "evidence_integration_path = f'{local_path}/evidence_integration'"
      ],
      "metadata": {
        "id": "Eh51Lwc9LccP"
      },
      "execution_count": 3,
      "outputs": []
    },
    {
      "cell_type": "code",
      "source": [
        "import json\n",
        "\n",
        "splits = ['train', 'validation', 'test']\n",
        "\n",
        "for split in splits:\n",
        "    split_path = f'{evidence_integration_path}/{split}_random.json'\n",
        "    data = json.load(open(split_path))\n",
        "    picos = []\n",
        "    ctxs = []\n",
        "    pmcid2ctxid = {}\n",
        "\n",
        "    for entry in data:\n",
        "        pico = {k: entry[k] for k in ['i_text', 'c_text', 'o_text', 'label']}\n",
        "        pmcid = entry['pmcid']\n",
        "\n",
        "        if pmcid not in pmcid2ctxid:\n",
        "            pmcid2ctxid[pmcid] = len(ctxs)\n",
        "            ctx = {'ctx_id': pmcid2ctxid[pmcid], 'passage': entry['passage']}\n",
        "            ctxs.append(ctx)\n",
        "\n",
        "        pico['ctx_id'] = pmcid2ctxid[pmcid]\n",
        "        picos.append(pico)\n",
        "\n",
        "    with open(f'{evidence_integration_path}/indexed_{split}_random_picos.json', 'w') as f:\n",
        "        json.dump(picos, f, indent=4)\n",
        "    with open(f'{evidence_integration_path}/indexed_{split}_random_ctxs.json', 'w') as f:\n",
        "        json.dump(ctxs, f, indent=4)"
      ],
      "metadata": {
        "id": "itcZF2xNLdoz"
      },
      "execution_count": 4,
      "outputs": []
    }
  ]
}