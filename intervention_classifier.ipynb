{
  "nbformat": 4,
  "nbformat_minor": 0,
  "metadata": {
    "colab": {
      "provenance": [],
      "mount_file_id": "1nYiOUEumGe1iRpaLOUX5blG27slJhZq_",
      "authorship_tag": "ABX9TyNxrYIIynpvQPqKvsYPvBDT",
      "include_colab_link": true
    },
    "kernelspec": {
      "name": "python3",
      "display_name": "Python 3"
    },
    "language_info": {
      "name": "python"
    }
  },
  "cells": [
    {
      "cell_type": "markdown",
      "metadata": {
        "id": "view-in-github",
        "colab_type": "text"
      },
      "source": [
        "<a href=\"https://colab.research.google.com/github/mahopman/IEBM-Net/blob/main/intervention_classifier.ipynb\" target=\"_parent\"><img src=\"https://colab.research.google.com/assets/colab-badge.svg\" alt=\"Open In Colab\"/></a>"
      ]
    },
    {
      "cell_type": "code",
      "source": [
        "## NEEDS TO BE CHANGED\n",
        "local_path = '/content/drive/MyDrive/MS_DataScience/DS595/CTP'"
      ],
      "metadata": {
        "id": "x6Kvi-bpe242"
      },
      "execution_count": 2,
      "outputs": []
    },
    {
      "cell_type": "code",
      "execution_count": 3,
      "metadata": {
        "id": "mw0kkv5cXr3z"
      },
      "outputs": [],
      "source": [
        "## generate dataset from evidence integration\n",
        "import json\n",
        "\n",
        "splits = ['train', 'test', 'validation']\n",
        "\n",
        "X = []\n",
        "y = []\n",
        "\n",
        "for split in splits:\n",
        "    data = json.load(open(f'{local_path}/evidence_integration/{split}.json'))\n",
        "\n",
        "    for entry in data:\n",
        "        X.append(entry['pmid'])\n",
        "        y.append(entry['label'])\n",
        "\n",
        "pmid2context = json.load(open('/content/drive/MyDrive/MS_DataScience/DS595/CTP/pretraining_dataset/pmid2ctx.json'))\n",
        "\n",
        "training_data.update(pmid2context)"
      ]
    },
    {
      "cell_type": "code",
      "source": [
        "set_seed(1)\n",
        "\n",
        "model_name = 'bert-base-uncased'\n",
        "\n",
        "tokenizer = BertTokenizerFast.from_pretrained(model_name, do_lower_case=True)\n",
        "\n",
        "train_encodings = tokenizer(X_train.to_list(), truncation=True, padding=True, max_length=max_length)\n",
        "valid_encodings = tokenizer(X_test.to_list(), truncation=True, padding=True, max_length=max_length)\n",
        "\n",
        "train_dataset = AmazonReviewsDataset(train_encodings, X_train.to_list())\n",
        "valid_dataset = AmazonReviewsDataset(valid_encodings, X_test.to_list())"
      ],
      "metadata": {
        "id": "CbzRgftQktMK"
      },
      "execution_count": null,
      "outputs": []
    },
    {
      "cell_type": "code",
      "source": [
        "## train bert sequence classifier"
      ],
      "metadata": {
        "id": "himelcKsYdwX"
      },
      "execution_count": null,
      "outputs": []
    }
  ]
}