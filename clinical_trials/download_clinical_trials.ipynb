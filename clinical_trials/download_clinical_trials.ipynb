{
  "cells": [
    {
      "cell_type": "markdown",
      "metadata": {
        "id": "view-in-github",
        "colab_type": "text"
      },
      "source": [
        "<a href=\"https://colab.research.google.com/github/mahopman/IEMB-Net/blob/main/clinical_trials/download_clinical_trials.ipynb\" target=\"_parent\"><img src=\"https://colab.research.google.com/assets/colab-badge.svg\" alt=\"Open In Colab\"/></a>"
      ]
    },
    {
      "cell_type": "code",
      "execution_count": 42,
      "metadata": {
        "id": "G6FkNGjrPsbc"
      },
      "outputs": [],
      "source": [
        "local_path = '/IEBM-Net_Data'"
      ]
    },
    {
      "cell_type": "code",
      "execution_count": 43,
      "metadata": {
        "id": "iTqhHQCsS-UW"
      },
      "outputs": [],
      "source": [
        "output_path = f'{local_path}/clinical_trials'"
      ]
    },
    {
      "cell_type": "code",
      "source": [
        "!mkdir -p $output_path"
      ],
      "metadata": {
        "id": "uqnGc-3ZcRh9"
      },
      "execution_count": 44,
      "outputs": []
    },
    {
      "cell_type": "code",
      "execution_count": 45,
      "metadata": {
        "id": "VkMQTs9AV8Fb"
      },
      "outputs": [],
      "source": [
        "def extract_nctid(study):\n",
        "    nctid = study['protocolSection']['identificationModule']['nctId']\n",
        "    return nctid"
      ]
    },
    {
      "cell_type": "code",
      "execution_count": 46,
      "metadata": {
        "id": "QCXkhrBUWVel"
      },
      "outputs": [],
      "source": [
        "def extract_interventions(study):\n",
        "    try:\n",
        "        interventions = study['protocolSection']['armsInterventionsModule']['interventions']\n",
        "    except:\n",
        "        return None\n",
        "    intervention_list = list(set([intervention['type'] for intervention in interventions]))\n",
        "    return intervention_list"
      ]
    },
    {
      "cell_type": "code",
      "execution_count": 47,
      "metadata": {
        "id": "rhy2uKhFXiPA"
      },
      "outputs": [],
      "source": [
        "from posixpath import supports_unicode_filenames\n",
        "import requests\n",
        "\n",
        "def get_clinical_trials(params):\n",
        "    base_url = \"https://clinicaltrials.gov/api/v2/studies\"\n",
        "\n",
        "    response = requests.get(base_url, params=params)\n",
        "\n",
        "    if response.status_code == 200:\n",
        "        data = response.json()\n",
        "        return data\n",
        "    else:\n",
        "        print(f\"Error: {response.status_code} - {response.text}\")"
      ]
    },
    {
      "cell_type": "code",
      "execution_count": 50,
      "metadata": {
        "id": "4E-IpUFSX98V"
      },
      "outputs": [],
      "source": [
        "import json\n",
        "\n",
        "nctid2intervention = {}\n",
        "\n",
        "params = {\n",
        "    'fields': 'NCTId,InterventionType',  # Fields to retrieve\n",
        "    'pageSize': 1000,  # Number of results per page\n",
        "    'format': 'json'  # Response format\n",
        "}\n",
        "\n",
        "data = get_clinical_trials(params)\n",
        "\n",
        "studies = data['studies']\n",
        "\n",
        "for study in studies:\n",
        "    nctid = extract_nctid(study)\n",
        "    interventions = extract_interventions(study)\n",
        "    if interventions is not None:\n",
        "        nctid2intervention[nctid] = interventions\n",
        "\n",
        "try:\n",
        "    data['nextPageToken']\n",
        "    next_page = True\n",
        "except:\n",
        "    next_page = False\n",
        "\n",
        "while next_page:\n",
        "    params['pageToken'] = data['nextPageToken']\n",
        "\n",
        "    data = get_clinical_trials(params)\n",
        "\n",
        "    studies = data['studies']\n",
        "\n",
        "    for study in studies:\n",
        "        nctid = extract_nctid(study)\n",
        "        interventions = extract_interventions(study)\n",
        "        if interventions is not None:\n",
        "            nctid2intervention[nctid] = interventions\n",
        "\n",
        "    try:\n",
        "        data['nextPageToken']\n",
        "        next_page = True\n",
        "    except:\n",
        "        next_page = False\n",
        "\n",
        "with open(f'{output_path}/nctid2intervention.json', 'w') as f:\n",
        "    json.dump(nctid2intervention, f)"
      ]
    }
  ],
  "metadata": {
    "colab": {
      "provenance": [],
      "mount_file_id": "1SnIFq9BxgqzvQWcvG92AeOBJf4a624MB",
      "authorship_tag": "ABX9TyOyxcHIXifh8v6jDO6o5E9K",
      "include_colab_link": true
    },
    "kernelspec": {
      "display_name": "Python 3",
      "name": "python3"
    },
    "language_info": {
      "name": "python"
    }
  },
  "nbformat": 4,
  "nbformat_minor": 0
}